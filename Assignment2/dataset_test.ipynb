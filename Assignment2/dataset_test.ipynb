{
 "cells": [
  {
   "cell_type": "code",
   "execution_count": 1,
   "metadata": {},
   "outputs": [],
   "source": [
    "import numpy as np\n",
    "import pandas as pd\n",
    "import os\n",
    "import random"
   ]
  },
  {
   "cell_type": "code",
   "execution_count": 132,
   "metadata": {},
   "outputs": [],
   "source": [
    "random.seed(42)\n",
    "rows = {}\n",
    "rows['AB'] = [ random.randint(100,700)  for _ in range(1000) ]\n",
    "rows['H'] = [ random.randint(50,200) for _ in range(1000) ]\n",
    "rows['2B'] = [ random.randint(0,50) for _ in range(1000) ]\n",
    "rows['3B'] = [ random.randint(0,20) for _ in range(1000) ]\n",
    "rows['HR'] = [ random.randint(0,60) for _ in range(1000) ]\n",
    "rows['RBI'] = [ random.randint(0,150) for _ in range(1000) ]\n",
    "rows['SB'] = [ random.randint(1,45) for _ in range(1000) ]\n",
    "rows['BB'] = [ random.randint(1,150) for _ in range(1000) ]\n",
    "rows['SO'] = [ random.randint(1,200) for _ in range(1000) ]\n",
    "rows['HBP'] = [ random.randint(0,30) for _ in range(1000) ]\n",
    "rows['SF'] = [ random.randint(0,15) for _ in range(1000) ]\n",
    "dataset = pd.DataFrame(rows)\n",
    "dataset['BA'] = dataset['H'] / dataset['AB']\n",
    "dataset['OBP'] = ( dataset['H'] + dataset['BB'] + dataset['HBP'] ) / ( dataset['AB'] + dataset['BB'] + dataset['HBP'] + dataset['SF'] )\n",
    "dataset['SLG'] = ( dataset['H'] + 2 * dataset['2B'] + 3 * dataset['3B'] + 4 * dataset['HR']                  ) / dataset['AB']\n",
    "dataset['OPS'] = dataset['OBP'] + dataset['SLG']\n",
    "dataset.drop(dataset[dataset['OPS'] >= 2].index, inplace=True) # drop outliers"
   ]
  },
  {
   "cell_type": "code",
   "execution_count": 133,
   "metadata": {},
   "outputs": [
    {
     "data": {
      "text/html": [
       "<div>\n",
       "<style scoped>\n",
       "    .dataframe tbody tr th:only-of-type {\n",
       "        vertical-align: middle;\n",
       "    }\n",
       "\n",
       "    .dataframe tbody tr th {\n",
       "        vertical-align: top;\n",
       "    }\n",
       "\n",
       "    .dataframe thead th {\n",
       "        text-align: right;\n",
       "    }\n",
       "</style>\n",
       "<table border=\"1\" class=\"dataframe\">\n",
       "  <thead>\n",
       "    <tr style=\"text-align: right;\">\n",
       "      <th></th>\n",
       "      <th>AB</th>\n",
       "      <th>H</th>\n",
       "      <th>2B</th>\n",
       "      <th>3B</th>\n",
       "      <th>HR</th>\n",
       "      <th>RBI</th>\n",
       "      <th>SB</th>\n",
       "      <th>BB</th>\n",
       "      <th>SO</th>\n",
       "      <th>HBP</th>\n",
       "      <th>SF</th>\n",
       "      <th>BA</th>\n",
       "      <th>OBP</th>\n",
       "      <th>SLG</th>\n",
       "      <th>OPS</th>\n",
       "    </tr>\n",
       "  </thead>\n",
       "  <tbody>\n",
       "    <tr>\n",
       "      <th>count</th>\n",
       "      <td>778.000000</td>\n",
       "      <td>778.000000</td>\n",
       "      <td>778.000000</td>\n",
       "      <td>778.000000</td>\n",
       "      <td>778.000000</td>\n",
       "      <td>778.000000</td>\n",
       "      <td>778.000000</td>\n",
       "      <td>778.000000</td>\n",
       "      <td>778.000000</td>\n",
       "      <td>778.000000</td>\n",
       "      <td>778.000000</td>\n",
       "      <td>778.000000</td>\n",
       "      <td>778.000000</td>\n",
       "      <td>778.000000</td>\n",
       "      <td>778.000000</td>\n",
       "    </tr>\n",
       "    <tr>\n",
       "      <th>mean</th>\n",
       "      <td>466.852185</td>\n",
       "      <td>122.209512</td>\n",
       "      <td>25.323907</td>\n",
       "      <td>9.785347</td>\n",
       "      <td>29.910026</td>\n",
       "      <td>75.350900</td>\n",
       "      <td>23.110540</td>\n",
       "      <td>76.406170</td>\n",
       "      <td>101.543702</td>\n",
       "      <td>14.973008</td>\n",
       "      <td>7.467866</td>\n",
       "      <td>0.285066</td>\n",
       "      <td>0.396683</td>\n",
       "      <td>0.745776</td>\n",
       "      <td>1.142459</td>\n",
       "    </tr>\n",
       "    <tr>\n",
       "      <th>std</th>\n",
       "      <td>139.602248</td>\n",
       "      <td>42.605503</td>\n",
       "      <td>14.461166</td>\n",
       "      <td>6.074733</td>\n",
       "      <td>17.698668</td>\n",
       "      <td>43.618198</td>\n",
       "      <td>13.056677</td>\n",
       "      <td>44.283189</td>\n",
       "      <td>57.899738</td>\n",
       "      <td>8.757305</td>\n",
       "      <td>4.551393</td>\n",
       "      <td>0.127623</td>\n",
       "      <td>0.129930</td>\n",
       "      <td>0.268640</td>\n",
       "      <td>0.367045</td>\n",
       "    </tr>\n",
       "    <tr>\n",
       "      <th>min</th>\n",
       "      <td>107.000000</td>\n",
       "      <td>50.000000</td>\n",
       "      <td>0.000000</td>\n",
       "      <td>0.000000</td>\n",
       "      <td>0.000000</td>\n",
       "      <td>0.000000</td>\n",
       "      <td>1.000000</td>\n",
       "      <td>1.000000</td>\n",
       "      <td>1.000000</td>\n",
       "      <td>0.000000</td>\n",
       "      <td>0.000000</td>\n",
       "      <td>0.077508</td>\n",
       "      <td>0.104651</td>\n",
       "      <td>0.156069</td>\n",
       "      <td>0.352306</td>\n",
       "    </tr>\n",
       "    <tr>\n",
       "      <th>25%</th>\n",
       "      <td>354.250000</td>\n",
       "      <td>83.000000</td>\n",
       "      <td>13.000000</td>\n",
       "      <td>4.000000</td>\n",
       "      <td>14.000000</td>\n",
       "      <td>39.250000</td>\n",
       "      <td>12.000000</td>\n",
       "      <td>37.000000</td>\n",
       "      <td>52.000000</td>\n",
       "      <td>8.000000</td>\n",
       "      <td>4.000000</td>\n",
       "      <td>0.190154</td>\n",
       "      <td>0.303928</td>\n",
       "      <td>0.541140</td>\n",
       "      <td>0.865227</td>\n",
       "    </tr>\n",
       "    <tr>\n",
       "      <th>50%</th>\n",
       "      <td>470.000000</td>\n",
       "      <td>124.500000</td>\n",
       "      <td>25.000000</td>\n",
       "      <td>10.000000</td>\n",
       "      <td>30.000000</td>\n",
       "      <td>72.500000</td>\n",
       "      <td>23.000000</td>\n",
       "      <td>78.000000</td>\n",
       "      <td>102.000000</td>\n",
       "      <td>15.000000</td>\n",
       "      <td>7.000000</td>\n",
       "      <td>0.266692</td>\n",
       "      <td>0.380914</td>\n",
       "      <td>0.702838</td>\n",
       "      <td>1.085604</td>\n",
       "    </tr>\n",
       "    <tr>\n",
       "      <th>75%</th>\n",
       "      <td>584.000000</td>\n",
       "      <td>158.000000</td>\n",
       "      <td>37.000000</td>\n",
       "      <td>15.000000</td>\n",
       "      <td>45.000000</td>\n",
       "      <td>113.000000</td>\n",
       "      <td>35.000000</td>\n",
       "      <td>116.000000</td>\n",
       "      <td>152.000000</td>\n",
       "      <td>22.000000</td>\n",
       "      <td>11.000000</td>\n",
       "      <td>0.362376</td>\n",
       "      <td>0.476358</td>\n",
       "      <td>0.929648</td>\n",
       "      <td>1.405206</td>\n",
       "    </tr>\n",
       "    <tr>\n",
       "      <th>max</th>\n",
       "      <td>699.000000</td>\n",
       "      <td>200.000000</td>\n",
       "      <td>50.000000</td>\n",
       "      <td>20.000000</td>\n",
       "      <td>60.000000</td>\n",
       "      <td>150.000000</td>\n",
       "      <td>45.000000</td>\n",
       "      <td>150.000000</td>\n",
       "      <td>200.000000</td>\n",
       "      <td>30.000000</td>\n",
       "      <td>15.000000</td>\n",
       "      <td>0.887255</td>\n",
       "      <td>0.915452</td>\n",
       "      <td>1.528736</td>\n",
       "      <td>1.990547</td>\n",
       "    </tr>\n",
       "  </tbody>\n",
       "</table>\n",
       "</div>"
      ],
      "text/plain": [
       "               AB           H          2B          3B          HR         RBI  \\\n",
       "count  778.000000  778.000000  778.000000  778.000000  778.000000  778.000000   \n",
       "mean   466.852185  122.209512   25.323907    9.785347   29.910026   75.350900   \n",
       "std    139.602248   42.605503   14.461166    6.074733   17.698668   43.618198   \n",
       "min    107.000000   50.000000    0.000000    0.000000    0.000000    0.000000   \n",
       "25%    354.250000   83.000000   13.000000    4.000000   14.000000   39.250000   \n",
       "50%    470.000000  124.500000   25.000000   10.000000   30.000000   72.500000   \n",
       "75%    584.000000  158.000000   37.000000   15.000000   45.000000  113.000000   \n",
       "max    699.000000  200.000000   50.000000   20.000000   60.000000  150.000000   \n",
       "\n",
       "               SB          BB          SO         HBP          SF          BA  \\\n",
       "count  778.000000  778.000000  778.000000  778.000000  778.000000  778.000000   \n",
       "mean    23.110540   76.406170  101.543702   14.973008    7.467866    0.285066   \n",
       "std     13.056677   44.283189   57.899738    8.757305    4.551393    0.127623   \n",
       "min      1.000000    1.000000    1.000000    0.000000    0.000000    0.077508   \n",
       "25%     12.000000   37.000000   52.000000    8.000000    4.000000    0.190154   \n",
       "50%     23.000000   78.000000  102.000000   15.000000    7.000000    0.266692   \n",
       "75%     35.000000  116.000000  152.000000   22.000000   11.000000    0.362376   \n",
       "max     45.000000  150.000000  200.000000   30.000000   15.000000    0.887255   \n",
       "\n",
       "              OBP         SLG         OPS  \n",
       "count  778.000000  778.000000  778.000000  \n",
       "mean     0.396683    0.745776    1.142459  \n",
       "std      0.129930    0.268640    0.367045  \n",
       "min      0.104651    0.156069    0.352306  \n",
       "25%      0.303928    0.541140    0.865227  \n",
       "50%      0.380914    0.702838    1.085604  \n",
       "75%      0.476358    0.929648    1.405206  \n",
       "max      0.915452    1.528736    1.990547  "
      ]
     },
     "execution_count": 133,
     "metadata": {},
     "output_type": "execute_result"
    }
   ],
   "source": [
    "stats = dataset.describe()\n",
    "stats"
   ]
  },
  {
   "cell_type": "code",
   "execution_count": 134,
   "metadata": {},
   "outputs": [
    {
     "data": {
      "text/plain": [
       "1.4052062616844379"
      ]
     },
     "execution_count": 134,
     "metadata": {},
     "output_type": "execute_result"
    }
   ],
   "source": [
    "ops_75 = stats['OPS']['75%']\n",
    "ops_75"
   ]
  },
  {
   "cell_type": "code",
   "execution_count": 135,
   "metadata": {},
   "outputs": [
    {
     "data": {
      "text/plain": [
       "1.0856040823249344"
      ]
     },
     "execution_count": 135,
     "metadata": {},
     "output_type": "execute_result"
    }
   ],
   "source": [
    "ops_50 = stats['OPS']['50%']\n",
    "ops_50"
   ]
  },
  {
   "cell_type": "code",
   "execution_count": 136,
   "metadata": {},
   "outputs": [
    {
     "data": {
      "text/plain": [
       "0.8652273985450759"
      ]
     },
     "execution_count": 136,
     "metadata": {},
     "output_type": "execute_result"
    }
   ],
   "source": [
    "ops_25 = stats['OPS']['25%']\n",
    "ops_25"
   ]
  },
  {
   "cell_type": "code",
   "execution_count": 137,
   "metadata": {},
   "outputs": [],
   "source": [
    "def Evaluate(ops):\n",
    "    if ops >= ops_75 :\n",
    "        return 'A'\n",
    "    elif ops >= ops_50 and ops < ops_75:\n",
    "        return 'B'\n",
    "    else:\n",
    "        return 'C'\n"
   ]
  },
  {
   "cell_type": "code",
   "execution_count": 138,
   "metadata": {},
   "outputs": [],
   "source": [
    "dataset['Rank'] = dataset['OPS'].apply(func=Evaluate)"
   ]
  },
  {
   "cell_type": "code",
   "execution_count": 139,
   "metadata": {},
   "outputs": [
    {
     "data": {
      "text/html": [
       "<div>\n",
       "<style scoped>\n",
       "    .dataframe tbody tr th:only-of-type {\n",
       "        vertical-align: middle;\n",
       "    }\n",
       "\n",
       "    .dataframe tbody tr th {\n",
       "        vertical-align: top;\n",
       "    }\n",
       "\n",
       "    .dataframe thead th {\n",
       "        text-align: right;\n",
       "    }\n",
       "</style>\n",
       "<table border=\"1\" class=\"dataframe\">\n",
       "  <thead>\n",
       "    <tr style=\"text-align: right;\">\n",
       "      <th></th>\n",
       "      <th>AB</th>\n",
       "      <th>H</th>\n",
       "      <th>2B</th>\n",
       "      <th>3B</th>\n",
       "      <th>HR</th>\n",
       "      <th>RBI</th>\n",
       "      <th>SB</th>\n",
       "      <th>BB</th>\n",
       "      <th>SO</th>\n",
       "      <th>HBP</th>\n",
       "      <th>SF</th>\n",
       "      <th>BA</th>\n",
       "      <th>OBP</th>\n",
       "      <th>SLG</th>\n",
       "      <th>OPS</th>\n",
       "      <th>Rank</th>\n",
       "    </tr>\n",
       "  </thead>\n",
       "  <tbody>\n",
       "    <tr>\n",
       "      <th>2</th>\n",
       "      <td>381</td>\n",
       "      <td>75</td>\n",
       "      <td>38</td>\n",
       "      <td>10</td>\n",
       "      <td>9</td>\n",
       "      <td>82</td>\n",
       "      <td>21</td>\n",
       "      <td>101</td>\n",
       "      <td>108</td>\n",
       "      <td>1</td>\n",
       "      <td>4</td>\n",
       "      <td>0.196850</td>\n",
       "      <td>0.363450</td>\n",
       "      <td>0.569554</td>\n",
       "      <td>0.933003</td>\n",
       "      <td>C</td>\n",
       "    </tr>\n",
       "    <tr>\n",
       "      <th>3</th>\n",
       "      <td>350</td>\n",
       "      <td>75</td>\n",
       "      <td>32</td>\n",
       "      <td>13</td>\n",
       "      <td>7</td>\n",
       "      <td>29</td>\n",
       "      <td>1</td>\n",
       "      <td>46</td>\n",
       "      <td>163</td>\n",
       "      <td>25</td>\n",
       "      <td>9</td>\n",
       "      <td>0.214286</td>\n",
       "      <td>0.339535</td>\n",
       "      <td>0.588571</td>\n",
       "      <td>0.928106</td>\n",
       "      <td>C</td>\n",
       "    </tr>\n",
       "    <tr>\n",
       "      <th>4</th>\n",
       "      <td>328</td>\n",
       "      <td>163</td>\n",
       "      <td>8</td>\n",
       "      <td>3</td>\n",
       "      <td>60</td>\n",
       "      <td>90</td>\n",
       "      <td>11</td>\n",
       "      <td>115</td>\n",
       "      <td>92</td>\n",
       "      <td>20</td>\n",
       "      <td>13</td>\n",
       "      <td>0.496951</td>\n",
       "      <td>0.626050</td>\n",
       "      <td>1.304878</td>\n",
       "      <td>1.930928</td>\n",
       "      <td>A</td>\n",
       "    </tr>\n",
       "    <tr>\n",
       "      <th>5</th>\n",
       "      <td>242</td>\n",
       "      <td>92</td>\n",
       "      <td>20</td>\n",
       "      <td>0</td>\n",
       "      <td>48</td>\n",
       "      <td>143</td>\n",
       "      <td>18</td>\n",
       "      <td>92</td>\n",
       "      <td>13</td>\n",
       "      <td>9</td>\n",
       "      <td>14</td>\n",
       "      <td>0.380165</td>\n",
       "      <td>0.540616</td>\n",
       "      <td>1.338843</td>\n",
       "      <td>1.879459</td>\n",
       "      <td>A</td>\n",
       "    </tr>\n",
       "    <tr>\n",
       "      <th>7</th>\n",
       "      <td>658</td>\n",
       "      <td>57</td>\n",
       "      <td>20</td>\n",
       "      <td>8</td>\n",
       "      <td>11</td>\n",
       "      <td>149</td>\n",
       "      <td>8</td>\n",
       "      <td>86</td>\n",
       "      <td>75</td>\n",
       "      <td>25</td>\n",
       "      <td>6</td>\n",
       "      <td>0.086626</td>\n",
       "      <td>0.216774</td>\n",
       "      <td>0.250760</td>\n",
       "      <td>0.467534</td>\n",
       "      <td>C</td>\n",
       "    </tr>\n",
       "  </tbody>\n",
       "</table>\n",
       "</div>"
      ],
      "text/plain": [
       "    AB    H  2B  3B  HR  RBI  SB   BB   SO  HBP  SF        BA       OBP  \\\n",
       "2  381   75  38  10   9   82  21  101  108    1   4  0.196850  0.363450   \n",
       "3  350   75  32  13   7   29   1   46  163   25   9  0.214286  0.339535   \n",
       "4  328  163   8   3  60   90  11  115   92   20  13  0.496951  0.626050   \n",
       "5  242   92  20   0  48  143  18   92   13    9  14  0.380165  0.540616   \n",
       "7  658   57  20   8  11  149   8   86   75   25   6  0.086626  0.216774   \n",
       "\n",
       "        SLG       OPS Rank  \n",
       "2  0.569554  0.933003    C  \n",
       "3  0.588571  0.928106    C  \n",
       "4  1.304878  1.930928    A  \n",
       "5  1.338843  1.879459    A  \n",
       "7  0.250760  0.467534    C  "
      ]
     },
     "execution_count": 139,
     "metadata": {},
     "output_type": "execute_result"
    }
   ],
   "source": [
    "dataset.head()"
   ]
  },
  {
   "cell_type": "code",
   "execution_count": 140,
   "metadata": {},
   "outputs": [],
   "source": [
    "dataset.drop(['OBP', 'SLG', 'OPS', 'BA', 'SB', 'SO', 'RBI'], axis=1, inplace=True)"
   ]
  },
  {
   "cell_type": "code",
   "execution_count": 141,
   "metadata": {},
   "outputs": [
    {
     "data": {
      "text/html": [
       "<div>\n",
       "<style scoped>\n",
       "    .dataframe tbody tr th:only-of-type {\n",
       "        vertical-align: middle;\n",
       "    }\n",
       "\n",
       "    .dataframe tbody tr th {\n",
       "        vertical-align: top;\n",
       "    }\n",
       "\n",
       "    .dataframe thead th {\n",
       "        text-align: right;\n",
       "    }\n",
       "</style>\n",
       "<table border=\"1\" class=\"dataframe\">\n",
       "  <thead>\n",
       "    <tr style=\"text-align: right;\">\n",
       "      <th></th>\n",
       "      <th>AB</th>\n",
       "      <th>H</th>\n",
       "      <th>2B</th>\n",
       "      <th>3B</th>\n",
       "      <th>HR</th>\n",
       "      <th>BB</th>\n",
       "      <th>HBP</th>\n",
       "      <th>SF</th>\n",
       "      <th>Rank</th>\n",
       "    </tr>\n",
       "  </thead>\n",
       "  <tbody>\n",
       "    <tr>\n",
       "      <th>2</th>\n",
       "      <td>381</td>\n",
       "      <td>75</td>\n",
       "      <td>38</td>\n",
       "      <td>10</td>\n",
       "      <td>9</td>\n",
       "      <td>101</td>\n",
       "      <td>1</td>\n",
       "      <td>4</td>\n",
       "      <td>C</td>\n",
       "    </tr>\n",
       "    <tr>\n",
       "      <th>3</th>\n",
       "      <td>350</td>\n",
       "      <td>75</td>\n",
       "      <td>32</td>\n",
       "      <td>13</td>\n",
       "      <td>7</td>\n",
       "      <td>46</td>\n",
       "      <td>25</td>\n",
       "      <td>9</td>\n",
       "      <td>C</td>\n",
       "    </tr>\n",
       "    <tr>\n",
       "      <th>4</th>\n",
       "      <td>328</td>\n",
       "      <td>163</td>\n",
       "      <td>8</td>\n",
       "      <td>3</td>\n",
       "      <td>60</td>\n",
       "      <td>115</td>\n",
       "      <td>20</td>\n",
       "      <td>13</td>\n",
       "      <td>A</td>\n",
       "    </tr>\n",
       "    <tr>\n",
       "      <th>5</th>\n",
       "      <td>242</td>\n",
       "      <td>92</td>\n",
       "      <td>20</td>\n",
       "      <td>0</td>\n",
       "      <td>48</td>\n",
       "      <td>92</td>\n",
       "      <td>9</td>\n",
       "      <td>14</td>\n",
       "      <td>A</td>\n",
       "    </tr>\n",
       "    <tr>\n",
       "      <th>7</th>\n",
       "      <td>658</td>\n",
       "      <td>57</td>\n",
       "      <td>20</td>\n",
       "      <td>8</td>\n",
       "      <td>11</td>\n",
       "      <td>86</td>\n",
       "      <td>25</td>\n",
       "      <td>6</td>\n",
       "      <td>C</td>\n",
       "    </tr>\n",
       "  </tbody>\n",
       "</table>\n",
       "</div>"
      ],
      "text/plain": [
       "    AB    H  2B  3B  HR   BB  HBP  SF Rank\n",
       "2  381   75  38  10   9  101    1   4    C\n",
       "3  350   75  32  13   7   46   25   9    C\n",
       "4  328  163   8   3  60  115   20  13    A\n",
       "5  242   92  20   0  48   92    9  14    A\n",
       "7  658   57  20   8  11   86   25   6    C"
      ]
     },
     "execution_count": 141,
     "metadata": {},
     "output_type": "execute_result"
    }
   ],
   "source": [
    "dataset.head()"
   ]
  },
  {
   "cell_type": "code",
   "execution_count": 142,
   "metadata": {},
   "outputs": [
    {
     "name": "stdout",
     "output_type": "stream",
     "text": [
      "    AB    H  2B  3B  HR   BB  HBP  SF\n",
      "2  381   75  38  10   9  101    1   4\n",
      "3  350   75  32  13   7   46   25   9\n",
      "4  328  163   8   3  60  115   20  13\n",
      "5  242   92  20   0  48   92    9  14\n",
      "7  658   57  20   8  11   86   25   6\n",
      "778\n"
     ]
    }
   ],
   "source": [
    "X = dataset.drop(['Rank'], axis=1)\n",
    "y = dataset['Rank']\n",
    "print(X.head())\n",
    "print(len(X))"
   ]
  },
  {
   "cell_type": "code",
   "execution_count": 143,
   "metadata": {},
   "outputs": [
    {
     "data": {
      "text/plain": [
       "Index(['AB', 'H', '2B', '3B', 'HR', 'BB', 'HBP', 'SF'], dtype='object')"
      ]
     },
     "execution_count": 143,
     "metadata": {},
     "output_type": "execute_result"
    }
   ],
   "source": [
    "X_features = X.columns\n",
    "X_features"
   ]
  },
  {
   "cell_type": "code",
   "execution_count": 144,
   "metadata": {},
   "outputs": [
    {
     "data": {
      "text/plain": [
       "2    C\n",
       "3    C\n",
       "4    A\n",
       "5    A\n",
       "7    C\n",
       "Name: Rank, dtype: object"
      ]
     },
     "execution_count": 144,
     "metadata": {},
     "output_type": "execute_result"
    }
   ],
   "source": [
    "y.head()"
   ]
  },
  {
   "cell_type": "code",
   "execution_count": 145,
   "metadata": {},
   "outputs": [],
   "source": [
    "import numpy as np\n",
    "from sklearn.model_selection import train_test_split\n",
    "from sklearn.tree import DecisionTreeClassifier\n",
    "from sklearn.model_selection import cross_val_score"
   ]
  },
  {
   "cell_type": "code",
   "execution_count": 146,
   "metadata": {},
   "outputs": [
    {
     "name": "stdout",
     "output_type": "stream",
     "text": [
      "(778, 8)\n",
      "(778,)\n"
     ]
    }
   ],
   "source": [
    "X = X.to_numpy()\n",
    "y = y.to_numpy()\n",
    "print(X.shape)\n",
    "print(y.shape)"
   ]
  },
  {
   "cell_type": "code",
   "execution_count": 153,
   "metadata": {},
   "outputs": [],
   "source": [
    "tree_clf = DecisionTreeClassifier(random_state=42, max_depth=4)"
   ]
  },
  {
   "cell_type": "code",
   "execution_count": 154,
   "metadata": {},
   "outputs": [],
   "source": [
    "f1_scores = cross_val_score(tree_clf, X, y, cv=10, scoring='f1_micro') "
   ]
  },
  {
   "cell_type": "code",
   "execution_count": 155,
   "metadata": {},
   "outputs": [
    {
     "data": {
      "text/plain": [
       "array([0.69620253, 0.79746835, 0.81012658, 0.70886076, 0.70512821,\n",
       "       0.63636364, 0.75324675, 0.83116883, 0.68831169, 0.84210526])"
      ]
     },
     "execution_count": 155,
     "metadata": {},
     "output_type": "execute_result"
    }
   ],
   "source": [
    "f1_scores"
   ]
  },
  {
   "cell_type": "code",
   "execution_count": 156,
   "metadata": {},
   "outputs": [
    {
     "data": {
      "text/plain": [
       "0.746898260522511"
      ]
     },
     "execution_count": 156,
     "metadata": {},
     "output_type": "execute_result"
    }
   ],
   "source": [
    "f1_scores.mean()"
   ]
  },
  {
   "cell_type": "code",
   "execution_count": 157,
   "metadata": {},
   "outputs": [
    {
     "data": {
      "text/plain": [
       "DecisionTreeClassifier(class_weight=None, criterion='gini', max_depth=4,\n",
       "                       max_features=None, max_leaf_nodes=None,\n",
       "                       min_impurity_decrease=0.0, min_impurity_split=None,\n",
       "                       min_samples_leaf=1, min_samples_split=2,\n",
       "                       min_weight_fraction_leaf=0.0, presort=False,\n",
       "                       random_state=42, splitter='best')"
      ]
     },
     "execution_count": 157,
     "metadata": {},
     "output_type": "execute_result"
    }
   ],
   "source": [
    "tree_clf.fit(X,y)"
   ]
  },
  {
   "cell_type": "code",
   "execution_count": 158,
   "metadata": {},
   "outputs": [],
   "source": [
    "from sklearn.tree import export_graphviz\n",
    "import graphviz\n",
    "dot_data = export_graphviz(tree_clf, out_file='Batting', feature_names=X_features, class_names=['A', 'B', 'C', 'D'])\n"
   ]
  },
  {
   "cell_type": "code",
   "execution_count": null,
   "metadata": {},
   "outputs": [],
   "source": []
  },
  {
   "cell_type": "code",
   "execution_count": null,
   "metadata": {},
   "outputs": [],
   "source": []
  }
 ],
 "metadata": {
  "file_extension": ".py",
  "kernelspec": {
   "display_name": "DMvenv",
   "language": "python",
   "name": "dmvenv"
  },
  "language_info": {
   "codemirror_mode": {
    "name": "ipython",
    "version": 3
   },
   "file_extension": ".py",
   "mimetype": "text/x-python",
   "name": "python",
   "nbconvert_exporter": "python",
   "pygments_lexer": "ipython3",
   "version": "3.7.5"
  },
  "mimetype": "text/x-python",
  "name": "python",
  "npconvert_exporter": "python",
  "pygments_lexer": "ipython3",
  "version": 3
 },
 "nbformat": 4,
 "nbformat_minor": 4
}
