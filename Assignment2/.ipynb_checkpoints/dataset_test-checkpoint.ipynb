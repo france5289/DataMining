{
 "nbformat": 4,
 "nbformat_minor": 2,
 "metadata": {
  "language_info": {
   "name": "python",
   "codemirror_mode": {
    "name": "ipython",
    "version": 3
   },
   "version": "3.7.4"
  },
  "orig_nbformat": 2,
  "file_extension": ".py",
  "mimetype": "text/x-python",
  "name": "python",
  "npconvert_exporter": "python",
  "pygments_lexer": "ipython3",
  "version": 3
 },
 "cells": [
  {
   "cell_type": "code",
   "execution_count": 1,
   "metadata": {},
   "outputs": [],
   "source": [
    "import numpy as np\n",
    "import pandas as pd\n",
    "import os\n",
    "import random"
   ]
  },
  {
   "cell_type": "code",
   "execution_count": 3,
   "metadata": {},
   "outputs": [],
   "source": [
    "random.seed(42)\n",
    "rows = {}\n",
    "rows['AB'] = [ random.randint(100,700)  for _ in range(500) ]\n",
    "rows['H'] = [ random.randint(50,200) for _ in range(500) ]\n",
    "rows['2B'] = [ random.randint(0,50) for _ in range(500) ]\n",
    "rows['3B'] = [ random.randint(0,20) for _ in range(500) ]\n",
    "rows['HR'] = [ random.randint(0,60) for _ in range(500) ]\n",
    "rows['RBI'] = [ random.randint(0,150) for _ in range(500) ]\n",
    "rows['SB'] = [ random.randint(1,45) for _ in range(500) ]\n",
    "rows['BB'] = [ random.randint(1,150) for _ in range(500) ]\n",
    "rows['SO'] = [ random.randint(1,200) for _ in range(500) ]\n",
    "rows['HBP'] = [ random.randint(0,30) for _ in range(500) ]\n",
    "rows['SF'] = [ random.randint(0,15) for _ in range(500) ]\n",
    "dataset = pd.DataFrame(rows)\n",
    "dataset['BA'] = dataset['H'] / dataset['AB']\n",
    "dataset['OBP'] = ( dataset['H'] + dataset['BB'] + dataset['HBP'] ) / ( dataset['AB'] + dataset['BB'] + dataset['HBP'] + dataset['SF'] )\n",
    "dataset['SLG'] = ( dataset['H'] + 2 * dataset['2B'] + 3 * dataset['3B'] + 4 * dataset['HR']                  ) / dataset['AB']\n",
    "dataset['OPS'] = dataset['OBP'] + dataset['SLG']\n",
    "dataset.drop(dataset[dataset['OPS'] >= 2].index, inplace=True) # drop outliers"
   ]
  },
  {
   "cell_type": "code",
   "execution_count": 4,
   "metadata": {},
   "outputs": [
    {
     "data": {
      "text/html": "<div>\n<style scoped>\n    .dataframe tbody tr th:only-of-type {\n        vertical-align: middle;\n    }\n\n    .dataframe tbody tr th {\n        vertical-align: top;\n    }\n\n    .dataframe thead th {\n        text-align: right;\n    }\n</style>\n<table border=\"1\" class=\"dataframe\">\n  <thead>\n    <tr style=\"text-align: right;\">\n      <th></th>\n      <th>AB</th>\n      <th>H</th>\n      <th>2B</th>\n      <th>3B</th>\n      <th>HR</th>\n      <th>RBI</th>\n      <th>SB</th>\n      <th>BB</th>\n      <th>SO</th>\n      <th>HBP</th>\n      <th>SF</th>\n      <th>BA</th>\n      <th>OBP</th>\n      <th>SLG</th>\n      <th>OPS</th>\n    </tr>\n  </thead>\n  <tbody>\n    <tr>\n      <td>0</td>\n      <td>214</td>\n      <td>51</td>\n      <td>2</td>\n      <td>18</td>\n      <td>8</td>\n      <td>12</td>\n      <td>12</td>\n      <td>34</td>\n      <td>76</td>\n      <td>30</td>\n      <td>7</td>\n      <td>0.238318</td>\n      <td>0.403509</td>\n      <td>0.658879</td>\n      <td>1.062387</td>\n    </tr>\n    <tr>\n      <td>2</td>\n      <td>381</td>\n      <td>158</td>\n      <td>4</td>\n      <td>16</td>\n      <td>4</td>\n      <td>57</td>\n      <td>29</td>\n      <td>19</td>\n      <td>82</td>\n      <td>28</td>\n      <td>12</td>\n      <td>0.414698</td>\n      <td>0.465909</td>\n      <td>0.603675</td>\n      <td>1.069584</td>\n    </tr>\n    <tr>\n      <td>3</td>\n      <td>350</td>\n      <td>106</td>\n      <td>15</td>\n      <td>9</td>\n      <td>28</td>\n      <td>59</td>\n      <td>36</td>\n      <td>59</td>\n      <td>67</td>\n      <td>10</td>\n      <td>10</td>\n      <td>0.302857</td>\n      <td>0.407925</td>\n      <td>0.785714</td>\n      <td>1.193640</td>\n    </tr>\n    <tr>\n      <td>4</td>\n      <td>328</td>\n      <td>95</td>\n      <td>40</td>\n      <td>1</td>\n      <td>11</td>\n      <td>13</td>\n      <td>36</td>\n      <td>99</td>\n      <td>27</td>\n      <td>24</td>\n      <td>9</td>\n      <td>0.289634</td>\n      <td>0.473913</td>\n      <td>0.676829</td>\n      <td>1.150742</td>\n    </tr>\n    <tr>\n      <td>7</td>\n      <td>658</td>\n      <td>62</td>\n      <td>14</td>\n      <td>19</td>\n      <td>28</td>\n      <td>84</td>\n      <td>7</td>\n      <td>27</td>\n      <td>44</td>\n      <td>6</td>\n      <td>4</td>\n      <td>0.094225</td>\n      <td>0.136691</td>\n      <td>0.393617</td>\n      <td>0.530308</td>\n    </tr>\n  </tbody>\n</table>\n</div>",
      "text/plain": "    AB    H  2B  3B  HR  RBI  SB  BB  SO  HBP  SF        BA       OBP  \\\n0  214   51   2  18   8   12  12  34  76   30   7  0.238318  0.403509   \n2  381  158   4  16   4   57  29  19  82   28  12  0.414698  0.465909   \n3  350  106  15   9  28   59  36  59  67   10  10  0.302857  0.407925   \n4  328   95  40   1  11   13  36  99  27   24   9  0.289634  0.473913   \n7  658   62  14  19  28   84   7  27  44    6   4  0.094225  0.136691   \n\n        SLG       OPS  \n0  0.658879  1.062387  \n2  0.603675  1.069584  \n3  0.785714  1.193640  \n4  0.676829  1.150742  \n7  0.393617  0.530308  "
     },
     "execution_count": 4,
     "metadata": {},
     "output_type": "execute_result"
    }
   ],
   "source": [
    "dataset.head()"
   ]
  },
  {
   "cell_type": "code",
   "execution_count": 5,
   "metadata": {},
   "outputs": [
    {
     "data": {
      "text/html": "<div>\n<style scoped>\n    .dataframe tbody tr th:only-of-type {\n        vertical-align: middle;\n    }\n\n    .dataframe tbody tr th {\n        vertical-align: top;\n    }\n\n    .dataframe thead th {\n        text-align: right;\n    }\n</style>\n<table border=\"1\" class=\"dataframe\">\n  <thead>\n    <tr style=\"text-align: right;\">\n      <th></th>\n      <th>AB</th>\n      <th>H</th>\n      <th>2B</th>\n      <th>3B</th>\n      <th>HR</th>\n      <th>RBI</th>\n      <th>SB</th>\n      <th>BB</th>\n      <th>SO</th>\n      <th>HBP</th>\n      <th>SF</th>\n      <th>BA</th>\n      <th>OBP</th>\n      <th>SLG</th>\n      <th>OPS</th>\n    </tr>\n  </thead>\n  <tbody>\n    <tr>\n      <td>count</td>\n      <td>381.000000</td>\n      <td>381.000000</td>\n      <td>381.000000</td>\n      <td>381.000000</td>\n      <td>381.000000</td>\n      <td>381.000000</td>\n      <td>381.000000</td>\n      <td>381.000000</td>\n      <td>381.000000</td>\n      <td>381.000000</td>\n      <td>381.000000</td>\n      <td>381.000000</td>\n      <td>381.000000</td>\n      <td>381.000000</td>\n      <td>381.000000</td>\n    </tr>\n    <tr>\n      <td>mean</td>\n      <td>460.406824</td>\n      <td>123.664042</td>\n      <td>24.498688</td>\n      <td>10.070866</td>\n      <td>28.732283</td>\n      <td>73.832021</td>\n      <td>23.965879</td>\n      <td>69.519685</td>\n      <td>99.257218</td>\n      <td>15.687664</td>\n      <td>7.414698</td>\n      <td>0.292088</td>\n      <td>0.396466</td>\n      <td>0.749848</td>\n      <td>1.146314</td>\n    </tr>\n    <tr>\n      <td>std</td>\n      <td>141.430101</td>\n      <td>43.287685</td>\n      <td>14.664785</td>\n      <td>6.037402</td>\n      <td>16.556339</td>\n      <td>43.364467</td>\n      <td>13.021092</td>\n      <td>42.999299</td>\n      <td>56.736250</td>\n      <td>8.919203</td>\n      <td>4.571789</td>\n      <td>0.129780</td>\n      <td>0.130821</td>\n      <td>0.274892</td>\n      <td>0.375331</td>\n    </tr>\n    <tr>\n      <td>min</td>\n      <td>165.000000</td>\n      <td>50.000000</td>\n      <td>0.000000</td>\n      <td>0.000000</td>\n      <td>0.000000</td>\n      <td>0.000000</td>\n      <td>1.000000</td>\n      <td>1.000000</td>\n      <td>2.000000</td>\n      <td>0.000000</td>\n      <td>0.000000</td>\n      <td>0.077941</td>\n      <td>0.111876</td>\n      <td>0.182515</td>\n      <td>0.381984</td>\n    </tr>\n    <tr>\n      <td>25%</td>\n      <td>348.000000</td>\n      <td>86.000000</td>\n      <td>12.000000</td>\n      <td>5.000000</td>\n      <td>15.000000</td>\n      <td>36.000000</td>\n      <td>12.000000</td>\n      <td>32.000000</td>\n      <td>50.000000</td>\n      <td>8.000000</td>\n      <td>4.000000</td>\n      <td>0.197227</td>\n      <td>0.301325</td>\n      <td>0.536741</td>\n      <td>0.860631</td>\n    </tr>\n    <tr>\n      <td>50%</td>\n      <td>457.000000</td>\n      <td>122.000000</td>\n      <td>23.000000</td>\n      <td>10.000000</td>\n      <td>29.000000</td>\n      <td>75.000000</td>\n      <td>25.000000</td>\n      <td>64.000000</td>\n      <td>100.000000</td>\n      <td>16.000000</td>\n      <td>7.000000</td>\n      <td>0.274744</td>\n      <td>0.385965</td>\n      <td>0.729393</td>\n      <td>1.106447</td>\n    </tr>\n    <tr>\n      <td>75%</td>\n      <td>579.000000</td>\n      <td>162.000000</td>\n      <td>38.000000</td>\n      <td>15.000000</td>\n      <td>43.000000</td>\n      <td>109.000000</td>\n      <td>36.000000</td>\n      <td>105.000000</td>\n      <td>150.000000</td>\n      <td>23.000000</td>\n      <td>11.000000</td>\n      <td>0.364964</td>\n      <td>0.488000</td>\n      <td>0.932000</td>\n      <td>1.413901</td>\n    </tr>\n    <tr>\n      <td>max</td>\n      <td>698.000000</td>\n      <td>200.000000</td>\n      <td>50.000000</td>\n      <td>20.000000</td>\n      <td>60.000000</td>\n      <td>150.000000</td>\n      <td>45.000000</td>\n      <td>150.000000</td>\n      <td>200.000000</td>\n      <td>30.000000</td>\n      <td>15.000000</td>\n      <td>0.817021</td>\n      <td>0.840764</td>\n      <td>1.467532</td>\n      <td>1.999791</td>\n    </tr>\n  </tbody>\n</table>\n</div>",
      "text/plain": "               AB           H          2B          3B          HR         RBI  \\\ncount  381.000000  381.000000  381.000000  381.000000  381.000000  381.000000   \nmean   460.406824  123.664042   24.498688   10.070866   28.732283   73.832021   \nstd    141.430101   43.287685   14.664785    6.037402   16.556339   43.364467   \nmin    165.000000   50.000000    0.000000    0.000000    0.000000    0.000000   \n25%    348.000000   86.000000   12.000000    5.000000   15.000000   36.000000   \n50%    457.000000  122.000000   23.000000   10.000000   29.000000   75.000000   \n75%    579.000000  162.000000   38.000000   15.000000   43.000000  109.000000   \nmax    698.000000  200.000000   50.000000   20.000000   60.000000  150.000000   \n\n               SB          BB          SO         HBP          SF          BA  \\\ncount  381.000000  381.000000  381.000000  381.000000  381.000000  381.000000   \nmean    23.965879   69.519685   99.257218   15.687664    7.414698    0.292088   \nstd     13.021092   42.999299   56.736250    8.919203    4.571789    0.129780   \nmin      1.000000    1.000000    2.000000    0.000000    0.000000    0.077941   \n25%     12.000000   32.000000   50.000000    8.000000    4.000000    0.197227   \n50%     25.000000   64.000000  100.000000   16.000000    7.000000    0.274744   \n75%     36.000000  105.000000  150.000000   23.000000   11.000000    0.364964   \nmax     45.000000  150.000000  200.000000   30.000000   15.000000    0.817021   \n\n              OBP         SLG         OPS  \ncount  381.000000  381.000000  381.000000  \nmean     0.396466    0.749848    1.146314  \nstd      0.130821    0.274892    0.375331  \nmin      0.111876    0.182515    0.381984  \n25%      0.301325    0.536741    0.860631  \n50%      0.385965    0.729393    1.106447  \n75%      0.488000    0.932000    1.413901  \nmax      0.840764    1.467532    1.999791  "
     },
     "execution_count": 5,
     "metadata": {},
     "output_type": "execute_result"
    }
   ],
   "source": [
    "dataset.describe()"
   ]
  },
  {
   "cell_type": "code",
   "execution_count": 6,
   "metadata": {},
   "outputs": [
    {
     "data": {
      "text/plain": "pandas.core.frame.DataFrame"
     },
     "execution_count": 6,
     "metadata": {},
     "output_type": "execute_result"
    }
   ],
   "source": [
    "type(dataset.describe())"
   ]
  },
  {
   "cell_type": "code",
   "execution_count": 7,
   "metadata": {},
   "outputs": [
    {
     "ename": "ModuleNotFoundError",
     "evalue": "No module named 'tqdm'",
     "output_type": "error",
     "traceback": [
      "\u001b[0;31m---------------------------------------------------------------------------\u001b[0m",
      "\u001b[0;31mModuleNotFoundError\u001b[0m                       Traceback (most recent call last)",
      "\u001b[0;32m<ipython-input-7-31b82129cd3b>\u001b[0m in \u001b[0;36m<module>\u001b[0;34m\u001b[0m\n\u001b[0;32m----> 1\u001b[0;31m \u001b[0;32mimport\u001b[0m \u001b[0mtqdm\u001b[0m\u001b[0;34m\u001b[0m\u001b[0;34m\u001b[0m\u001b[0m\n\u001b[0m",
      "\u001b[0;31mModuleNotFoundError\u001b[0m: No module named 'tqdm'"
     ]
    }
   ],
   "source": [
    "import tqdm"
   ]
  },
  {
   "cell_type": "code",
   "execution_count": null,
   "metadata": {},
   "outputs": [],
   "source": []
  }
 ]
}